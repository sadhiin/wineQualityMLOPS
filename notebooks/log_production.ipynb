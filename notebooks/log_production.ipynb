{
 "cells": [
  {
   "cell_type": "code",
   "execution_count": 1,
   "id": "1d9702e3-7e7e-4b6b-a0e9-f71007e562a9",
   "metadata": {},
   "outputs": [
    {
     "data": {
      "text/plain": [
       "'E:\\\\Projects\\\\MLOPS\\\\Demo\\\\wineQulity_mlops_project\\\\notebooks'"
      ]
     },
     "execution_count": 1,
     "metadata": {},
     "output_type": "execute_result"
    }
   ],
   "source": [
    "pwd"
   ]
  },
  {
   "cell_type": "code",
   "execution_count": 4,
   "id": "002d9e9d-cb6f-4250-9b48-3d6e80a6fedb",
   "metadata": {},
   "outputs": [],
   "source": [
    "os.chdir('E:\\\\Projects\\\\MLOPS\\\\Demo\\\\wineQulity_mlops_project')"
   ]
  },
  {
   "cell_type": "code",
   "execution_count": 3,
   "id": "4510a400-73cd-454d-a8fc-15a48ef759c1",
   "metadata": {},
   "outputs": [],
   "source": [
    "from src.get_data import read_params\n",
    "import argparse\n",
    "import mlflow\n",
    "from mlflow.tracking import MlflowClient\n",
    "from pprint import pprint\n",
    "import joblib\n",
    "import os"
   ]
  },
  {
   "cell_type": "code",
   "execution_count": 15,
   "id": "b974bdb3-9fbe-4761-ab6a-f45ece1fa55c",
   "metadata": {},
   "outputs": [
    {
     "name": "stdout",
     "output_type": "stream",
     "text": [
      "An error occurred: object of type 'int' has no len()\n"
     ]
    }
   ],
   "source": [
    "def log_production_model(config_path):\n",
    "    try:\n",
    "        # Read configuration parameters\n",
    "        config = read_params(config_path)\n",
    "        mlflow_config = config[\"mlflow_config\"]\n",
    "        model_name = mlflow_config[\"registered_model_name\"]\n",
    "        remote_server_uri = mlflow_config[\"remote_server_uri\"]\n",
    "\n",
    "        # Set MLflow registry URI\n",
    "        mlflow.set_registry_uri(remote_server_uri)\n",
    "\n",
    "        # Search for runs in the experiment with ID 1\n",
    "        runs = mlflow.search_runs(experiment_ids=1)\n",
    "\n",
    "        # Find the run with the lowest MAE\n",
    "        lowest = runs['metrics.mae'].sort_values(ascending=True)[0]\n",
    "        lowest_run_id = runs[runs['metrics.mae'] == lowest][\"run_id\"][0]\n",
    "\n",
    "        # Initialize the MLflow client\n",
    "        client = mlflow.tracking.MlflowClient()\n",
    "\n",
    "        # Loop through model versions\n",
    "        for mv in client.search_model_versions(f\"name='{model_name}'\"):\n",
    "            mv = dict(mv)\n",
    "            current_version = mv[\"version\"]\n",
    "\n",
    "            if mv[\"run_id\"] == lowest_run_id:\n",
    "                # Transition the model version to \"Production\"\n",
    "                logged_model = mv[\"source\"]\n",
    "                pprint(mv, indent=4)\n",
    "                client.transition_model_version_stage(\n",
    "                    name=model_name,\n",
    "                    version=current_version,\n",
    "                    stage=\"Production\"\n",
    "                )\n",
    "            else:\n",
    "                # Transition other model versions to \"Staging\"\n",
    "                client.transition_model_version_stage(\n",
    "                    name=model_name,\n",
    "                    version=current_version,\n",
    "                    stage=\"Staging\"\n",
    "                )\n",
    "\n",
    "    except Exception as e:\n",
    "        print(f\"An error occurred: {str(e)}\")\n",
    "\n",
    "log_production_model(\"params.yaml\")\n"
   ]
  },
  {
   "cell_type": "code",
   "execution_count": null,
   "id": "f114860f-533b-48fc-ac33-45dd7a8274ab",
   "metadata": {},
   "outputs": [],
   "source": []
  }
 ],
 "metadata": {
  "kernelspec": {
   "display_name": "Python 3 (ipykernel)",
   "language": "python",
   "name": "python3"
  },
  "language_info": {
   "codemirror_mode": {
    "name": "ipython",
    "version": 3
   },
   "file_extension": ".py",
   "mimetype": "text/x-python",
   "name": "python",
   "nbconvert_exporter": "python",
   "pygments_lexer": "ipython3",
   "version": "3.10.13"
  }
 },
 "nbformat": 4,
 "nbformat_minor": 5
}
